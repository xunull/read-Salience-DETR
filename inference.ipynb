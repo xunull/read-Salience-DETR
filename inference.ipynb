{
 "cells": [
  {
   "cell_type": "markdown",
   "metadata": {},
   "source": [
    "## 1. Import necessary packages"
   ]
  },
  {
   "cell_type": "code",
   "execution_count": 1,
   "metadata": {},
   "source": [
    "import cv2\n",
    "import torch\n",
    "\n",
    "from matplotlib import pyplot as plt\n",
    "from util.utils import load_state_dict\n",
    "from util.visualize import plot_bounding_boxes_on_image_cv2"
   ],
   "outputs": []
  },
  {
   "cell_type": "markdown",
   "metadata": {},
   "source": [
    "## 2. Load a model and class information\n",
    "\n",
    "We encode class information into the checkpoint, use our defined `load_state_dict` to handle it."
   ]
  },
  {
   "cell_type": "code",
   "execution_count": 2,
   "metadata": {},
   "source": [
    "from configs.salience_detr.salience_detr_resnet50_800_1333 import model\n",
    "weight = torch.load(\"checkpoint.pth\")\n",
    "load_state_dict(model, weight)\n",
    "model = model.eval()"
   ],
   "outputs": []
  },
  {
   "cell_type": "code",
   "execution_count": 3,
   "metadata": {},
   "source": [
    "image = cv2.imread(\"data/coco/val2017/000000000724.jpg\")\n",
    "torch_image = torch.tensor(image.transpose(2, 0, 1))"
   ],
   "outputs": []
  },
  {
   "cell_type": "markdown",
   "metadata": {},
   "source": [
    "## 3. Inference on the image"
   ]
  },
  {
   "cell_type": "code",
   "execution_count": 4,
   "metadata": {},
   "source": [
    "predictions = model([torch_image])[0]\n",
    "# The following code also works:\n",
    "# predictions = model(torch_image.unsqueeze(0))[0]"
   ],
   "outputs": []
  },
  {
   "cell_type": "markdown",
   "metadata": {},
   "source": [
    "## 4. Visualize results"
   ]
  },
  {
   "cell_type": "code",
   "execution_count": 5,
   "metadata": {},
   "source": [
    "image_for_show = plot_bounding_boxes_on_image_cv2(\n",
    "    image=cv2.cvtColor(image, cv2.COLOR_BGR2RGB),\n",
    "    boxes=predictions[\"boxes\"],\n",
    "    labels=predictions[\"labels\"],\n",
    "    scores=predictions[\"scores\"],\n",
    "    classes=model.CLASSES,  # class information\n",
    "    show_conf=0.5,\n",
    "    font_scale=0.5,\n",
    "    box_thick=2,\n",
    "    text_alpha=0.75,\n",
    ")"
   ],
   "outputs": []
  },
  {
   "cell_type": "code",
   "execution_count": 6,
   "metadata": {},
   "source": [
    "plt.imshow(image_for_show)"
   ],
   "outputs": []
  },
  {
   "cell_type": "code",
   "execution_count": null,
   "metadata": {},
   "source": [],
   "outputs": []
  }
 ],
 "metadata": {
  "kernelspec": {
   "display_name": "cp311pt211",
   "language": "python",
   "name": "python3"
  },
  "language_info": {
   "codemirror_mode": {
    "name": "ipython",
    "version": 3
   },
   "file_extension": ".py",
   "mimetype": "text/x-python",
   "name": "python",
   "nbconvert_exporter": "python",
   "pygments_lexer": "ipython3",
   "version": "3.11.5"
  }
 },
 "nbformat": 4,
 "nbformat_minor": 2
}
